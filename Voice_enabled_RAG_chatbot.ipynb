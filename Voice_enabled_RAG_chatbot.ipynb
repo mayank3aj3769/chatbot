{
 "cells": [
  {
   "cell_type": "code",
   "execution_count": 9,
   "metadata": {},
   "outputs": [],
   "source": [
    "import os \n",
    "from dotenv import load_dotenv\n",
    "from pathlib import Path\n",
    "\n",
    "from langchain import PromptTemplate\n",
    "from langchain.chains import RetrievalQA\n",
    "from langchain.embeddings import HuggingFaceEmbeddings\n",
    "from langchain_pinecone import PineconeVectorStore\n",
    "from langchain.document_loaders import PyPDFLoader, DirectoryLoader\n",
    "from langchain.text_splitter import RecursiveCharacterTextSplitter\n",
    "from langchain.prompts import PromptTemplate\n",
    "from langchain.llms import CTransformers\n",
    "\n",
    "from pinecone import Pinecone, ServerlessSpec"
   ]
  },
  {
   "cell_type": "code",
   "execution_count": 10,
   "metadata": {},
   "outputs": [],
   "source": [
    "dotenv_path = Path('.env')\n",
    "load_dotenv(dotenv_path=dotenv_path)\n",
    "PINECONE_API_KEY=os.getenv('PINECONE_API_KEY')\n",
    "os.environ['PINECONE_API_KEY']=PINECONE_API_KEY"
   ]
  },
  {
   "cell_type": "code",
   "execution_count": 11,
   "metadata": {},
   "outputs": [],
   "source": [
    "## extract data from the pdf\n",
    "\n",
    "def load_pdf(data):\n",
    "    loader=DirectoryLoader(data,\n",
    "                    glob=\"*.pdf\",\n",
    "                    loader_cls=PyPDFLoader)\n",
    "    documents=loader.load() \n",
    "\n",
    "    return documents"
   ]
  },
  {
   "cell_type": "code",
   "execution_count": 12,
   "metadata": {},
   "outputs": [],
   "source": [
    "#!pip install pypdf"
   ]
  },
  {
   "cell_type": "code",
   "execution_count": 15,
   "metadata": {},
   "outputs": [],
   "source": [
    "extracted_data=load_pdf(\"data/\")"
   ]
  },
  {
   "cell_type": "code",
   "execution_count": 19,
   "metadata": {},
   "outputs": [
    {
     "data": {
      "text/plain": [
       "701"
      ]
     },
     "execution_count": 19,
     "metadata": {},
     "output_type": "execute_result"
    }
   ],
   "source": [
    "len(extracted_data) #sample data"
   ]
  },
  {
   "cell_type": "code",
   "execution_count": 20,
   "metadata": {},
   "outputs": [
    {
     "data": {
      "text/plain": [
       "Document(page_content='Ion emission from charged nanodrops\\nPrior experiments and calculations have shown that the jets are unstable and generate\\nsmall droplets. The main elongated drop left after the detachment of the progenies relaxes\\nback to a spherical shape, with a charge that is substantially smaller than the original and\\nmost of the original mass (Duft et al. 2003; Giglio et al. 2008). An accurate calculation of\\nthe dynamics of the jet breakup and the formation of droplet progenies requires a higher\\ngrid resolution than employed in this article (the capture of radial features is limited by\\nour choice of interface thickness, ξ=R/100), but doing so increases the computational\\ncost dramatically. Although we do not capture the entire ﬁssion process, we can estimate\\nthe amount of charge that a parent droplet must shed to become stable. Starting with the\\nshape at AR=3.68 (just prior to the formation of the critical shape), we progressively\\nreduce the charge and observe the evolution to discern whether the droplet develops the\\njets or goes back to the spherical shape. Figure 3 (c) illustrates this approach: starting with\\na shape AR=3.68, if the charge is made tobeQo=0.65QRay, the droplet still forms\\na jet and is unstable. Conversely, if the charge is slightly reduced to Qo=0.64QRay,t h e\\naspect ratio of the droplet decreases and it becomes spheroidal. This suggests that a droplet\\ncharged at the Rayleigh limit will shed 36 % of its charge in a Coulomb explosion. Duft\\net al. (2003) and Giglio et al. (2008) report an experimental charge loss of 33 %, which\\nis in good agreement with our prediction. A recent equipotential model predicts a chargeloss of roughly 39 % (Gawande et al. 2017). There is a variation of the fraction of lost\\ncharge reported in the literature, which is likely due to viscosity and conductivity effects.\\nFor example, for low viscous de-ionized water droplets ( Oh=0.023), the critical shape is\\nachieved at\\nAR=2.7–2.9 and a charge loss of roughly 20 % has been measured (Giglio\\net al. 2020), whereas experiments in the Stokes limit ( Oh≫1) report a charge loss of\\n33 % (Duft et al. 2003; Achtzehn et al. 2005; Giglio et al. 2008).\\n3.2. Droplet charged above the Rayleigh limit with ion ﬁeld emission\\nThe simulation of a droplet charged above the Rayleigh limit including ion ﬁeld emission\\n(labelled as WFE, ‘with ﬁeld emission’) is motivated by the experimental studies of\\nGamero-Castaño & Cisquella-Serra ( 2020), Miller et al. (2021)and Perez-Lorenzo &\\nFernández De La Mora ( 2022), who report substantial ion currents in electrosprays of\\nseveral ionic liquids. Retarding potential measurements indicate that these ions are emitted\\nfrom droplets likely to be charged above the Rayleigh limit. Our simulations reveal threedistinct outcomes depending on the initial size of the droplet.\\n3.2.1. Small radius regime, region I\\nSufﬁciently small droplets charged above the Rayleigh limit emit ions from the spherical\\nand spheroidal shapes. Figure 4 shows the evolution of droplets with diameters of 10\\nand 20 nm charged 4 % above the Rayleigh limit. The 10 nm droplet undergoes marginal\\ndeformation while emitting ions, before becoming a stable sphere. The 20 nm dropletfollows a similar path, but undergoes a larger deformation. In either case\\n, the droplet does\\nnot develop the cusps preceding the formation of the jets and droplet progenies, i.e. the\\nshedding of charge by ion ﬁeld emission prevents the Coulomb explosion.\\nFigure 5 (a) shows the charge of three ion-emitting droplets with diameters of 10, 15\\nand 20 nm as a function of time, while ﬁgure 5 (b) shows their aspect ratios together with\\nthat of a 50 nm droplet in the PRF regime (without ion emission). The initial charge of alldroplets is 4 % above the Rayleigh limit. The characteristic time for the shedding of charge\\nscales with t\\nc, while the fraction of the initial charge that is evaporated increases with\\ndecreasing droplet diameter. This is to be expected from the dependency of the electric\\n958A32-11\\nhttps://doi.org/10.1017/jfm.2023.107\\n Published online by Cambridge University Press', metadata={'source': 'data\\\\ion-emission-from-nanodroplets-undergoing-coulomb-explosions-a-continuum-numerical-study.pdf', 'page': 10})"
      ]
     },
     "execution_count": 20,
     "metadata": {},
     "output_type": "execute_result"
    }
   ],
   "source": [
    "extracted_data[684]"
   ]
  },
  {
   "cell_type": "code",
   "execution_count": 21,
   "metadata": {},
   "outputs": [],
   "source": [
    "#Create text chunks\n",
    "\n",
    "def text_split(extracted_data):\n",
    "    text_splitter=RecursiveCharacterTextSplitter(chunk_size=500,chunk_overlap=20) ## overlapp b/w embedddings\n",
    "    text_chunks=text_splitter.split_documents(extracted_data)\n",
    "\n",
    "    return text_chunks"
   ]
  },
  {
   "cell_type": "code",
   "execution_count": 22,
   "metadata": {},
   "outputs": [
    {
     "name": "stdout",
     "output_type": "stream",
     "text": [
      "length of chunks:  2625\n"
     ]
    }
   ],
   "source": [
    "text_chunks=text_split(extracted_data)\n",
    "print(\"length of chunks: \",len(text_chunks))"
   ]
  },
  {
   "cell_type": "code",
   "execution_count": 23,
   "metadata": {},
   "outputs": [],
   "source": [
    "#download embedding model , and sentence \n",
    "def download_hf_embeddings():\n",
    "    embeddings=HuggingFaceEmbeddings(model_name=\"sentence-transformers/all-MiniLM-L6-v2\")\n",
    "\n",
    "    return embeddings"
   ]
  },
  {
   "cell_type": "code",
   "execution_count": 24,
   "metadata": {},
   "outputs": [],
   "source": [
    "embeddings=download_hf_embeddings()"
   ]
  },
  {
   "cell_type": "code",
   "execution_count": 25,
   "metadata": {},
   "outputs": [
    {
     "data": {
      "text/plain": [
       "HuggingFaceEmbeddings(client=SentenceTransformer(\n",
       "  (0): Transformer({'max_seq_length': 256, 'do_lower_case': False}) with Transformer model: BertModel \n",
       "  (1): Pooling({'word_embedding_dimension': 384, 'pooling_mode_cls_token': False, 'pooling_mode_mean_tokens': True, 'pooling_mode_max_tokens': False, 'pooling_mode_mean_sqrt_len_tokens': False})\n",
       "  (2): Normalize()\n",
       "), model_name='sentence-transformers/all-MiniLM-L6-v2', cache_folder=None, model_kwargs={}, encode_kwargs={}, multi_process=False, show_progress=False)"
      ]
     },
     "execution_count": 25,
     "metadata": {},
     "output_type": "execute_result"
    }
   ],
   "source": [
    "embeddings"
   ]
  },
  {
   "cell_type": "code",
   "execution_count": 26,
   "metadata": {},
   "outputs": [
    {
     "name": "stdout",
     "output_type": "stream",
     "text": [
      "Length 384\n"
     ]
    }
   ],
   "source": [
    "query_result=embeddings.embed_query(\"Hello World\")\n",
    "print(\"Length\",len(query_result))"
   ]
  },
  {
   "cell_type": "code",
   "execution_count": 27,
   "metadata": {},
   "outputs": [],
   "source": [
    "import speech_recognition as sr\n",
    "from gtts import gTTS\n",
    "import os\n",
    "import time\n",
    "import playsound\n",
    "import random \n",
    "\n",
    "def speak(text):\n",
    "    tts = gTTS(text=text, lang='en')\n",
    "    ls=[i for i in range(1,100)]\n",
    "    r1=random.choice(ls)\n",
    "    r2=random.choice(ls)\n",
    "    filename = 'voice_'+str(r1)+'_'+str(r2)+'.mp3'\n",
    "    tts.save(filename)\n",
    "    playsound.playsound(filename)\n",
    "\n",
    "#speak(\"Hi Mayank\")\n"
   ]
  },
  {
   "cell_type": "code",
   "execution_count": 28,
   "metadata": {},
   "outputs": [],
   "source": [
    "def get_audio():\n",
    "\tr = sr.Recognizer()\n",
    "\twith sr.Microphone() as source:\n",
    "\t\taudio = r.listen(source)\n",
    "\t\tsaid = \"\"\n",
    "\n",
    "\t\ttry:\n",
    "\t\t    said = r.recognize_google(audio)\n",
    "\t\t    print(\"Query: \"+said)\n",
    "\t\texcept Exception as e:\n",
    "\t\t    print(\"Exception: \" + str(e))\n",
    "\n",
    "\treturn said\n"
   ]
  },
  {
   "cell_type": "code",
   "execution_count": 30,
   "metadata": {},
   "outputs": [],
   "source": [
    "index_name=\"mchatbot\"\n",
    "vectorstore = PineconeVectorStore(index_name=index_name, embedding=embeddings)"
   ]
  },
  {
   "cell_type": "code",
   "execution_count": 31,
   "metadata": {},
   "outputs": [],
   "source": [
    "## Initializing a given pinecone index/knowledge base\n",
    "index_name=\"mchatbot\"\n",
    "#docsearch=PineconeVectorStore.from_documents(text_chunks, embeddings, index_name=index_name)\n",
    "docs_chunks =[t.page_content for t in text_chunks]\n",
    "docsearch=PineconeVectorStore.from_texts(docs_chunks ,embeddings, index_name=index_name)"
   ]
  },
  {
   "cell_type": "code",
   "execution_count": 34,
   "metadata": {},
   "outputs": [
    {
     "name": "stdout",
     "output_type": "stream",
     "text": [
      "Query: for highly precious droplets how much charge is lost by the parent droplet during rally fission\n",
      "is observed, accompanied by ion emission which is however insufﬁcient to prevent theCoulomb explosion. Ion emission and the smaller progeny droplets account for 24 % and\n",
      "16 % of the initial charge\n",
      ", respectively.\n",
      "Key words: breakup/coalescence, electrohydrodynamic effects\n",
      "†Email address for correspondence: mgameroc@uci.edu\n",
      "© The Author(s), 2023. Published by Cambridge University Press. This is an Open Access article,\n"
     ]
    }
   ],
   "source": [
    "#query = \"What is Bayesian inference?\"\n",
    "query=get_audio()\n",
    "#query=\"For highly viscous droplets, how much charge is lost by the parent droplet during Rayleigh fission?\"\n",
    "docs = vectorstore.similarity_search(query)\n",
    "print(docs[0].page_content)"
   ]
  },
  {
   "cell_type": "code",
   "execution_count": 35,
   "metadata": {},
   "outputs": [],
   "source": [
    "prompt_template=\"\"\" \n",
    "Use the following pieces of information to answer the user's question.\n",
    "If you don't know the answer, just state that you don't know, don't try to make up an answer.\n",
    "\n",
    "\n",
    "Context:{context}\n",
    "Question:{question}\n",
    "\n",
    "Only return the helpful answer below and nothing else.\n",
    "\n",
    "Helpful answer: \n",
    "\"\"\""
   ]
  },
  {
   "cell_type": "code",
   "execution_count": 36,
   "metadata": {},
   "outputs": [],
   "source": [
    "PROMPT=PromptTemplate(template=prompt_template,input_variables=[\"context\",\"question\"])\n",
    "chain_type_kwargs={\"prompt\":PROMPT}"
   ]
  },
  {
   "cell_type": "code",
   "execution_count": 37,
   "metadata": {},
   "outputs": [],
   "source": [
    "llm=CTransformers(model=\"model/llama-7b.ggmlv3.q4_1.bin\",\n",
    "                 model_type=\"llama\",\n",
    "                 config={'max_new_tokens':512,\n",
    "                        'temperature':0.8})"
   ]
  },
  {
   "cell_type": "code",
   "execution_count": 38,
   "metadata": {},
   "outputs": [],
   "source": [
    "\n",
    "qa=RetrievalQA.from_chain_type(\n",
    "    llm=llm,\n",
    "    chain_type=\"stuff\",\n",
    "    retriever=vectorstore.as_retriever(search_kwargs={'k':2}),\n",
    "    chain_type_kwargs=chain_type_kwargs)"
   ]
  },
  {
   "cell_type": "code",
   "execution_count": 41,
   "metadata": {},
   "outputs": [
    {
     "name": "stdout",
     "output_type": "stream",
     "text": [
      "****************************************************************************************************\n",
      "Response :  \n",
      "\n",
      "Ionic liquids with very large radii (e.g., C6H5O5-CH3OH) are known to be unstable at low ow rates, because they can undergo Rayleigh fission when a droplet is in ight.\n",
      "This instability is well described by ρV(<) where V is the ow rate of liquid and R is the radius\n",
      "of ionic liquid. \n",
      "\n",
      "In the ionic liquids EMI-Im,MIs that do not I-Im, MI/F2A-Im (CMI-Im-Im-Im-Im-Im(NOIM-10403-Im and C6HMI-Im, M IMI-IMiMe-Im-im or -Im–TGIL, N , R \n",
      "mi-MI-MIm and Im, which have notably to J MI-O/O21405OH-Im-Im-Im, MI, HIM-EMI-IM (EMIm-Im-Im, M IMI-Im, the ionic-Im, M IMI-Im and EMI-MII-MI-Im, M IMI-AL (HIOA (em Im and F 09 and CH3O33S-Im-Im and BMlEMI-EMiMIm and TMSI and DMS-Im, M IMI-Im, the ion and C6HIM-Im+27HT-Im,MI-MI-102-MI-C-Im, M IMI-Im, M IMI-L403-Im(im− and F MI-EM-Im-MI-MI-Im (CH-N3MII-Im, the radius is Im-Im–F3 [EI-Im with very small radii that under test electrospontheIM-ImiO7026HMDLMI-Im and EMI-Im-Im, M I-MI-MI+NKMB-Im (CMI-Im and Im, F EMI-Im,MII-Im, the Im-131111\n",
      "****************************************************************************************************\n",
      "****************************************************************************************************\n",
      "Response :  \n",
      "1) Field emission of charged droplet reduces droplet size and increases ion current. In general we expect that the ion current is increased because the charge on a given liquid particle decreases with distance from its surface, so that there are more ion particles for every charge. For example, if a droplet has radius $r$ and emits ions at a rate $i$\n",
      "and it charges to a potential of $E_C$, then $d\\varphi$ ﬁgures out the number of ion particles per charge\n",
      "from this distance: $$ i = \\frac{q}{4\\pi E_{π( \\pi r^pi R_{\\pi r}\\pi r^rmeVEC} \\pi \\pi r\\pi\\pi\\pi\\pi\\pi r\\pi rcnp  \\pi\\pi\\pi\\pi\\pi\\pi\\pi \\pi \\pi r\\pi r\\pi r\\pi k_kBeta r^oerfc\\pi r\\pi r E_{pi{e}{\\rm{rhos}ECE _E[Pi\\pi R \\pi r}Airho r}\\left(\\pi r\\pi r\\pi \\pi \\pi r\\pi r }Rmspace\\pi\\pi \\pi \\pi \\pi \\pi\\pi\\pi r^3pi\\pi \\pi \\pi r}r_pi \\pi \\pi\\pi\\pi\\pi\\pi\\pi\\pi\n",
      " \\pi\\pi\\pi \\pi \\pi r}e^{o\\pi\\pi r} π \\pi\\pi\\pi\\pi \\pi \\pi r}\\left(\\pi\\,\n",
      "Pi r^rpi{}aPl*{pi\\pi\\pi r}E_pi\\pi r E_pirho r \\pi \\pi \\pi \\pi \\pi r\\pi(r_pi\\pi r_π \\pi r\\pi r} π r^oerfc\\pi \\pi \\pi \\pi\\pi\\pi \\pi \\pi r\\pi r^pi \\pi \\pi r}Epsilon}\\left(\\pi r\\pi e c ln}{\\pi \\pi \\pi \\pi \\pi \\pi \\pi \\pi \\pi\\pi\\pi\n",
      "Pi (4\\pi \\pi r}r_pir{ π d_{pi r\\pi r^pi\\pi\\pi\n",
      "****************************************************************************************************\n"
     ]
    }
   ],
   "source": [
    "while True:\n",
    "    #user_input=input(f\"Input Prompt:\")\n",
    "    user_input=get_audio()\n",
    "    print(\"\".join([\"*\"]*100))\n",
    "    if(user_input=='exit' or user_input=='Exit'):\n",
    "        print('Shutting down RAG')\n",
    "        break\n",
    "    result=qa({\"query\":user_input})\n",
    "    print(\"Response : \",result[\"result\"])\n",
    "    print(\"\".join([\"*\"]*100))\n",
    "    speak(result[\"result\"])\n",
    "    "
   ]
  },
  {
   "cell_type": "code",
   "execution_count": null,
   "metadata": {},
   "outputs": [],
   "source": []
  }
 ],
 "metadata": {
  "kernelspec": {
   "display_name": "mchatbot",
   "language": "python",
   "name": "mchatbot"
  },
  "language_info": {
   "codemirror_mode": {
    "name": "ipython",
    "version": 3
   },
   "file_extension": ".py",
   "mimetype": "text/x-python",
   "name": "python",
   "nbconvert_exporter": "python",
   "pygments_lexer": "ipython3",
   "version": "3.12.3"
  }
 },
 "nbformat": 4,
 "nbformat_minor": 2
}
